{
 "cells": [
  {
   "cell_type": "code",
   "execution_count": 40,
   "metadata": {},
   "outputs": [],
   "source": [
    "import pandas as pd\n",
    "import matplotlib.pyplot as plt\n",
    "import json\n",
    "\n",
    "from sklearn.feature_extraction.text import TfidfVectorizer\n",
    "from sklearn.metrics.pairwise import cosine_similarity, euclidean_distances"
   ]
  },
  {
   "cell_type": "code",
   "execution_count": 41,
   "metadata": {},
   "outputs": [],
   "source": [
    "df = pd.read_json(r\".\\All_Games_Data.json\")"
   ]
  },
  {
   "cell_type": "code",
   "execution_count": 42,
   "metadata": {},
   "outputs": [
    {
     "name": "stdout",
     "output_type": "stream",
     "text": [
      "<class 'pandas.core.frame.DataFrame'>\n",
      "RangeIndex: 10336 entries, 0 to 10335\n",
      "Data columns (total 24 columns):\n",
      " #   Column               Non-Null Count  Dtype  \n",
      "---  ------               --------------  -----  \n",
      " 0   steamId              10336 non-null  int64  \n",
      " 1   id                   10336 non-null  int64  \n",
      " 2   name                 10336 non-null  object \n",
      " 3   price                10336 non-null  float64\n",
      " 4   reviews              10336 non-null  int64  \n",
      " 5   followers            10336 non-null  int64  \n",
      " 6   reviewScore          10336 non-null  int64  \n",
      " 7   copiesSold           10336 non-null  int64  \n",
      " 8   revenue              10336 non-null  float64\n",
      " 9   wishlists            10315 non-null  float64\n",
      " 10  avgPlaytime          10336 non-null  float64\n",
      " 11  tags                 10336 non-null  object \n",
      " 12  genres               10336 non-null  object \n",
      " 13  features             10336 non-null  object \n",
      " 14  developers           10336 non-null  object \n",
      " 15  publishers           10336 non-null  object \n",
      " 16  unreleased           10336 non-null  bool   \n",
      " 17  earlyAccess          10336 non-null  bool   \n",
      " 18  releaseDate          10336 non-null  int64  \n",
      " 19  firstReleaseDate     10336 non-null  int64  \n",
      " 20  publisherClass       10336 non-null  object \n",
      " 21  EAReleaseDate        3648 non-null   float64\n",
      " 22  earlyAccessExitDate  1775 non-null   float64\n",
      " 23  totalRevenue         152 non-null    float64\n",
      "dtypes: bool(2), float64(7), int64(8), object(7)\n",
      "memory usage: 1.8+ MB\n"
     ]
    }
   ],
   "source": [
    "df.info()"
   ]
  },
  {
   "cell_type": "code",
   "execution_count": 43,
   "metadata": {},
   "outputs": [
    {
     "data": {
      "text/html": [
       "<div>\n",
       "<style scoped>\n",
       "    .dataframe tbody tr th:only-of-type {\n",
       "        vertical-align: middle;\n",
       "    }\n",
       "\n",
       "    .dataframe tbody tr th {\n",
       "        vertical-align: top;\n",
       "    }\n",
       "\n",
       "    .dataframe thead th {\n",
       "        text-align: right;\n",
       "    }\n",
       "</style>\n",
       "<table border=\"1\" class=\"dataframe\">\n",
       "  <thead>\n",
       "    <tr style=\"text-align: right;\">\n",
       "      <th></th>\n",
       "      <th>steamId</th>\n",
       "      <th>id</th>\n",
       "      <th>name</th>\n",
       "      <th>price</th>\n",
       "      <th>reviews</th>\n",
       "      <th>followers</th>\n",
       "      <th>reviewScore</th>\n",
       "      <th>copiesSold</th>\n",
       "      <th>revenue</th>\n",
       "      <th>wishlists</th>\n",
       "      <th>...</th>\n",
       "      <th>developers</th>\n",
       "      <th>publishers</th>\n",
       "      <th>unreleased</th>\n",
       "      <th>earlyAccess</th>\n",
       "      <th>releaseDate</th>\n",
       "      <th>firstReleaseDate</th>\n",
       "      <th>publisherClass</th>\n",
       "      <th>EAReleaseDate</th>\n",
       "      <th>earlyAccessExitDate</th>\n",
       "      <th>totalRevenue</th>\n",
       "    </tr>\n",
       "  </thead>\n",
       "  <tbody>\n",
       "    <tr>\n",
       "      <th>0</th>\n",
       "      <td>240</td>\n",
       "      <td>240</td>\n",
       "      <td>Counter-Strike: Source</td>\n",
       "      <td>9.99</td>\n",
       "      <td>165528</td>\n",
       "      <td>439891</td>\n",
       "      <td>96</td>\n",
       "      <td>10823784</td>\n",
       "      <td>90588048.0</td>\n",
       "      <td>383900.0</td>\n",
       "      <td>...</td>\n",
       "      <td>[Valve]</td>\n",
       "      <td>[Valve]</td>\n",
       "      <td>False</td>\n",
       "      <td>False</td>\n",
       "      <td>1099285200000</td>\n",
       "      <td>1099285200000</td>\n",
       "      <td>AAA</td>\n",
       "      <td>NaN</td>\n",
       "      <td>NaN</td>\n",
       "      <td>NaN</td>\n",
       "    </tr>\n",
       "    <tr>\n",
       "      <th>1</th>\n",
       "      <td>10</td>\n",
       "      <td>10</td>\n",
       "      <td>Counter-Strike</td>\n",
       "      <td>9.99</td>\n",
       "      <td>232214</td>\n",
       "      <td>210434</td>\n",
       "      <td>97</td>\n",
       "      <td>7006617</td>\n",
       "      <td>29440065.0</td>\n",
       "      <td>269500.0</td>\n",
       "      <td>...</td>\n",
       "      <td>[Valve]</td>\n",
       "      <td>[Valve]</td>\n",
       "      <td>False</td>\n",
       "      <td>False</td>\n",
       "      <td>973054800000</td>\n",
       "      <td>973054800000</td>\n",
       "      <td>AAA</td>\n",
       "      <td>NaN</td>\n",
       "      <td>NaN</td>\n",
       "      <td>NaN</td>\n",
       "    </tr>\n",
       "  </tbody>\n",
       "</table>\n",
       "<p>2 rows × 24 columns</p>\n",
       "</div>"
      ],
      "text/plain": [
       "   steamId   id                    name  price  reviews  followers  \\\n",
       "0      240  240  Counter-Strike: Source   9.99   165528     439891   \n",
       "1       10   10          Counter-Strike   9.99   232214     210434   \n",
       "\n",
       "   reviewScore  copiesSold     revenue  wishlists  ...  developers publishers  \\\n",
       "0           96    10823784  90588048.0   383900.0  ...     [Valve]    [Valve]   \n",
       "1           97     7006617  29440065.0   269500.0  ...     [Valve]    [Valve]   \n",
       "\n",
       "  unreleased earlyAccess    releaseDate firstReleaseDate  publisherClass  \\\n",
       "0      False       False  1099285200000    1099285200000             AAA   \n",
       "1      False       False   973054800000     973054800000             AAA   \n",
       "\n",
       "   EAReleaseDate  earlyAccessExitDate  totalRevenue  \n",
       "0            NaN                  NaN           NaN  \n",
       "1            NaN                  NaN           NaN  \n",
       "\n",
       "[2 rows x 24 columns]"
      ]
     },
     "execution_count": 43,
     "metadata": {},
     "output_type": "execute_result"
    }
   ],
   "source": [
    "df.head(2)"
   ]
  },
  {
   "cell_type": "code",
   "execution_count": 44,
   "metadata": {},
   "outputs": [
    {
     "data": {
      "text/plain": [
       "steamId                                                              240\n",
       "id                                                                   240\n",
       "name                                              Counter-Strike: Source\n",
       "price                                                               9.99\n",
       "reviews                                                           165528\n",
       "followers                                                         439891\n",
       "reviewScore                                                           96\n",
       "copiesSold                                                      10823784\n",
       "revenue                                                       90588048.0\n",
       "wishlists                                                       383900.0\n",
       "avgPlaytime                                                   123.770818\n",
       "tags                   [Shooter, FPS, Action, Multiplayer, Team-Based...\n",
       "genres                                                          [Action]\n",
       "features               [Cross-Platform Multiplayer, Steam Achievement...\n",
       "developers                                                       [Valve]\n",
       "publishers                                                       [Valve]\n",
       "unreleased                                                         False\n",
       "earlyAccess                                                        False\n",
       "releaseDate                                                1099285200000\n",
       "firstReleaseDate                                           1099285200000\n",
       "publisherClass                                                       AAA\n",
       "EAReleaseDate                                                        NaN\n",
       "earlyAccessExitDate                                                  NaN\n",
       "totalRevenue                                                         NaN\n",
       "Name: 0, dtype: object"
      ]
     },
     "execution_count": 44,
     "metadata": {},
     "output_type": "execute_result"
    }
   ],
   "source": [
    "x = df.iloc[0]\n",
    "x"
   ]
  },
  {
   "cell_type": "code",
   "execution_count": 45,
   "metadata": {},
   "outputs": [
    {
     "data": {
      "text/plain": [
       "['Shooter',\n",
       " 'FPS',\n",
       " 'Action',\n",
       " 'Multiplayer',\n",
       " 'Team-Based',\n",
       " 'First-Person',\n",
       " 'Competitive',\n",
       " 'Tactical',\n",
       " 'PvP',\n",
       " 'eSports',\n",
       " 'Military',\n",
       " 'War',\n",
       " 'Strategy',\n",
       " 'Moddable',\n",
       " 'Singleplayer',\n",
       " 'Difficult',\n",
       " 'Atmospheric',\n",
       " 'Survival',\n",
       " 'Simulation',\n",
       " 'Sandbox']"
      ]
     },
     "execution_count": 45,
     "metadata": {},
     "output_type": "execute_result"
    }
   ],
   "source": [
    "tags = x[\"tags\"]\n",
    "tags"
   ]
  },
  {
   "cell_type": "code",
   "execution_count": 46,
   "metadata": {},
   "outputs": [
    {
     "data": {
      "text/plain": [
       "'Shooter FPS Action Multiplayer Team-Based First-Person Competitive Tactical PvP eSports Military War Strategy Moddable Singleplayer Difficult Atmospheric Survival Simulation Sandbox'"
      ]
     },
     "execution_count": 46,
     "metadata": {},
     "output_type": "execute_result"
    }
   ],
   "source": [
    "\" \".join([tag for tag in tags])"
   ]
  },
  {
   "cell_type": "code",
   "execution_count": 47,
   "metadata": {},
   "outputs": [],
   "source": [
    "def tags_and_features_to_string(row):\n",
    "    tags = row[\"tags\"]\n",
    "    tags = \" \".join([j for j in tags])\n",
    "\n",
    "    features = row[\"features\"]\n",
    "    features = \" \".join([j for j in features])\n",
    "    return tags + \" \" + features"
   ]
  },
  {
   "cell_type": "code",
   "execution_count": 48,
   "metadata": {},
   "outputs": [
    {
     "data": {
      "text/plain": [
       "0        Shooter FPS Action Multiplayer Team-Based Firs...\n",
       "1        Action FPS Multiplayer Shooter Classic Team-Ba...\n",
       "2        Anime MMORPG RPG Open World Action Action-Adve...\n",
       "3        FPS Classic 1990's Singleplayer Sci-fi Multipl...\n",
       "4        Motocross Motorbike Multiplayer Simulation Off...\n",
       "                               ...                        \n",
       "10331    Free to Play Massively Multiplayer Early Acces...\n",
       "10332    Action Indie Pixel Graphics Local Multiplayer ...\n",
       "10333    MMORPG Exploration Sandbox Open World PvP PvE ...\n",
       "10334    Casual City Builder Sandbox Farming Sim Life S...\n",
       "10335    Action 2.5D Platformer Fast-Paced Difficult 2D...\n",
       "Name: string, Length: 10336, dtype: object"
      ]
     },
     "execution_count": 48,
     "metadata": {},
     "output_type": "execute_result"
    }
   ],
   "source": [
    "df[\"string\"] = df.apply(tags_and_features_to_string, axis=1)\n",
    "df[\"string\"]"
   ]
  },
  {
   "cell_type": "code",
   "execution_count": 49,
   "metadata": {},
   "outputs": [],
   "source": [
    "tfidf = TfidfVectorizer(max_features=2000)"
   ]
  },
  {
   "cell_type": "code",
   "execution_count": 50,
   "metadata": {},
   "outputs": [],
   "source": [
    "tfidf_matrix = tfidf.fit_transform(list(df[\"string\"]))"
   ]
  },
  {
   "cell_type": "code",
   "execution_count": 51,
   "metadata": {},
   "outputs": [
    {
     "data": {
      "text/plain": [
       "<Compressed Sparse Row sparse matrix of dtype 'float64'\n",
       "\twith 305010 stored elements and shape (10336, 529)>"
      ]
     },
     "execution_count": 51,
     "metadata": {},
     "output_type": "execute_result"
    }
   ],
   "source": [
    "tfidf_matrix"
   ]
  },
  {
   "cell_type": "code",
   "execution_count": 52,
   "metadata": {},
   "outputs": [
    {
     "name": "stdout",
     "output_type": "stream",
     "text": [
      "['1980s' '1990' '2d' '360' '3d' '40k' '4x' '5d' '6dof' 'abstract' 'access'\n",
      " 'achievements' 'action' 'addictive' 'adventure' 'agriculture' 'aliens'\n",
      " 'alternate' 'ambient' 'america' 'american' 'and' 'animation' 'anime'\n",
      " 'anti' 'apocalyptic' 'app' 'arcade' 'archery' 'arena' 'artificial' 'arts'\n",
      " 'assassin' 'asymmetric' 'asynchronous' 'atmospheric' 'attack' 'atv'\n",
      " 'audio' 'auto' 'automation' 'automobile' 'available' 'awkward' 'base'\n",
      " 'baseball' 'based' 'basketball' 'battle' 'battler' 'beat' 'beautiful'\n",
      " 'bikes' 'birds' 'bit' 'blood' 'bmx' 'board' 'book' 'boomer' 'boss'\n",
      " 'bowling' 'boxing' 'builder' 'building' 'bullet' 'campaign' 'capitalism'\n",
      " 'captions' 'card' 'cards' 'cartoon' 'cartoony' 'casual' 'cats'\n",
      " 'character' 'cheat' 'chess' 'choices' 'choose' 'cinematic' 'city' 'class'\n",
      " 'classic' 'click' 'clicker' 'cloud' 'co' 'coding' 'cold' 'collectathon'\n",
      " 'collectibles' 'collector' 'colony' 'colorful' 'combat' 'comedy' 'comic'\n",
      " 'commentary' 'competitive' 'conspiracy' 'content' 'control' 'controller'\n",
      " 'controls' 'conversation' 'cooking' 'cozy' 'craft' 'crafting' 'crawler'\n",
      " 'creature' 'cricket' 'crime' 'cross' 'crowdfunded' 'crpg' 'cult'\n",
      " 'customization' 'cute' 'cyberpunk' 'cycling' 'dark' 'dating' 'death'\n",
      " 'deckbuilder' 'deckbuilding' 'deduction' 'defense' 'demons' 'design'\n",
      " 'destruction' 'detective' 'development' 'dice' 'difficult' 'dinosaurs'\n",
      " 'diplomacy' 'documentary' 'dog' 'down' 'dragons' 'drama' 'drawn'\n",
      " 'driving' 'dungeon' 'dungeons' 'dwarf' 'dynamic' 'dystopian' 'early'\n",
      " 'economy' 'editing' 'editor' 'education' 'electronic' 'elf' 'em'\n",
      " 'emotional' 'enabled' 'endings' 'epic' 'episodic' 'escape' 'esports'\n",
      " 'events' 'experience' 'experimental' 'exploration' 'extraction' 'faith'\n",
      " 'family' 'fantasy' 'farming' 'fast' 'feature' 'features' 'female' 'fi'\n",
      " 'fiction' 'fighter' 'fighting' 'film' 'first' 'fishing' 'flight' 'fmv'\n",
      " 'football' 'foreign' 'fps' 'free' 'friendly' 'funny' 'futuristic'\n",
      " 'gambling' 'game' 'gamemaker' 'games' 'gaming' 'generation' 'god' 'golf'\n",
      " 'gore' 'gothic' 'grand' 'graphics' 'great' 'grid' 'gun' 'hack' 'hacking'\n",
      " 'hand' 'hardware' 'hdr' 'heist' 'hell' 'hentai' 'hero' 'hex' 'hidden'\n",
      " 'historical' 'history' 'hl2' 'hockey' 'horror' 'horses' 'humor' 'hunting'\n",
      " 'idler' 'ii' 'illuminati' 'illustration' 'immersive' 'in' 'includes'\n",
      " 'indie' 'instrumental' 'intelligence' 'intentionally' 'interactive'\n",
      " 'inventory' 'investigation' 'isometric' 'jet' 'job' 'jrpg' 'jump'\n",
      " 'keeper' 'kickstarter' 'lan' 'leaderboards' 'lego' 'lemmings' 'level'\n",
      " 'lgbtq' 'life' 'like' 'limited' 'linear' 'local' 'logic' 'loot' 'looter'\n",
      " 'lore' 'lovecraftian' 'machine' 'magic' 'mahjong' 'management'\n",
      " 'manipulation' 'mars' 'martial' 'massively' 'match' 'matching' 'matter'\n",
      " 'mature' 'mechs' 'medical' 'medieval' 'memes' 'metroidvania' 'military'\n",
      " 'mini' 'minigames' 'minimalist' 'mining' 'mmo' 'mmorpg' 'moba' 'mod'\n",
      " 'moddable' 'modeling' 'modern' 'mods' 'motocross' 'motorbike' 'mouse'\n",
      " 'movement' 'movie' 'multiplayer' 'multiple' 'music' 'musou' 'mystery'\n",
      " 'mythology' 'narration' 'narrative' 'nature' 'naval' 'ninja' 'noir'\n",
      " 'nonlinear' 'nostalgia' 'notifications' 'novel' 'nsfw' 'nudity' 'object'\n",
      " 'offroad' 'old' 'on' 'online' 'only' 'op' 'open' 'otome' 'outbreak' 'own'\n",
      " 'paced' 'parkour' 'parody' 'partial' 'party' 'pause' 'perma' 'person'\n",
      " 'philosophical' 'phone' 'photo' 'physics' 'pinball' 'pirates' 'pixel'\n",
      " 'platform' 'platformer' 'play' 'player' 'point' 'political' 'politics'\n",
      " 'pool' 'post' 'precision' 'procedural' 'production' 'profile'\n",
      " 'programming' 'protagonist' 'psychedelic' 'psychological' 'publishing'\n",
      " 'purchases' 'puzzle' 'pve' 'pvp' 'quick' 'racing' 'rails' 'real'\n",
      " 'realistic' 'relaxing' 'remake' 'remote' 'replay' 'require' 'resource'\n",
      " 'retro' 'rhythm' 'rich' 'robots' 'rock' 'roguelike' 'roguelite'\n",
      " 'roguevania' 'romance' 'rome' 'room' 'royale' 'rpg' 'rpgmaker' 'rts'\n",
      " 'rugby' 'runner' 'rush' 'sailing' 'sandbox' 'satire' 'scare' 'school'\n",
      " 'sci' 'science' 'score' 'screen' 'scroller' 'sdk' 'sequel' 'sexual'\n",
      " 'shared' 'sharing' 'shoot' 'shooter' 'shop' 'short' 'side' 'silent' 'sim'\n",
      " 'simulation' 'simulator' 'single' 'singleplayer' 'skateboarding'\n",
      " 'skating' 'skiing' 'slash' 'sniper' 'snooker' 'snow' 'snowboarding'\n",
      " 'soccer' 'social' 'software' 'sokoban' 'solitaire' 'souls' 'soundtrack'\n",
      " 'source' 'space' 'spaceships' 'spectacle' 'spelling' 'split' 'sports'\n",
      " 'stats' 'stealth' 'steam' 'steampunk' 'steamvr' 'stick' 'story'\n",
      " 'strategy' 'stylized' 'submarine' 'superhero' 'supernatural' 'support'\n",
      " 'supported' 'surreal' 'survival' 'swordplay' 'tablet' 'tabletop'\n",
      " 'tactical' 'tactics' 'tanks' 'team' 'tennis' 'text' 'third' 'thriller'\n",
      " 'tile' 'time' 'timeline' 'to' 'together' 'top' 'touch' 'tower' 'tracked'\n",
      " 'trackir' 'trading' 'traditional' 'training' 'trains' 'transhumanism'\n",
      " 'transportation' 'travel' 'trivia' 'turn' 'tutorial' 'tv' 'twin' 'typing'\n",
      " 'underground' 'underwater' 'unforgiving' 'up' 'utilities' 'value' 'valve'\n",
      " 'vampire' 'vehicular' 'video' 'vikings' 'villain' 'violent' 'vision'\n",
      " 'visual' 'voice' 'volleyball' 'voxel' 'vr' 'walking' 'war' 'wargame'\n",
      " 'warhammer' 'web' 'well' 'werewolves' 'western' 'wholesome' 'with' 'word'\n",
      " 'workshop' 'world' 'wrestling' 'written' 'your' 'zombies']\n",
      "[[0.         0.         0.         ... 0.         0.         0.        ]\n",
      " [0.21375319 0.20496465 0.         ... 0.         0.         0.        ]\n",
      " [0.         0.         0.         ... 0.         0.         0.        ]\n",
      " ...\n",
      " [0.         0.         0.         ... 0.         0.         0.        ]\n",
      " [0.         0.         0.12167326 ... 0.         0.         0.        ]\n",
      " [0.         0.         0.29507569 ... 0.         0.         0.        ]]\n"
     ]
    }
   ],
   "source": [
    "print(tfidf.get_feature_names_out())\n",
    "print(tfidf_matrix.toarray())"
   ]
  },
  {
   "cell_type": "code",
   "execution_count": 53,
   "metadata": {},
   "outputs": [
    {
     "data": {
      "text/plain": [
       "name\n",
       "Counter-Strike: Source                  0\n",
       "Counter-Strike                          1\n",
       "Tower of Fantasy                        2\n",
       "Half-Life                               3\n",
       "MX Bikes                                4\n",
       "                                    ...  \n",
       "Road Dogs                           10331\n",
       "STONEBOND: The Gargoyle's Domain    10332\n",
       "Ethyrial: Echoes of Yore            10333\n",
       "Planting Trees                      10334\n",
       "Monstrosity                         10335\n",
       "Length: 10336, dtype: int64"
      ]
     },
     "execution_count": 53,
     "metadata": {},
     "output_type": "execute_result"
    }
   ],
   "source": [
    "game2idx = pd.Series(df.index, index=df[\"name\"])\n",
    "game2idx"
   ]
  },
  {
   "cell_type": "code",
   "execution_count": 79,
   "metadata": {},
   "outputs": [
    {
     "data": {
      "text/plain": [
       "100"
      ]
     },
     "execution_count": 79,
     "metadata": {},
     "output_type": "execute_result"
    }
   ],
   "source": [
    "idx = game2idx[\"ELDEN RING\"]\n",
    "idx"
   ]
  },
  {
   "cell_type": "code",
   "execution_count": 80,
   "metadata": {},
   "outputs": [
    {
     "data": {
      "text/plain": [
       "<Compressed Sparse Row sparse matrix of dtype 'float64'\n",
       "\twith 34 stored elements and shape (1, 529)>"
      ]
     },
     "execution_count": 80,
     "metadata": {},
     "output_type": "execute_result"
    }
   ],
   "source": [
    "query_game = tfidf_matrix[idx]\n",
    "query_game"
   ]
  },
  {
   "cell_type": "code",
   "execution_count": 81,
   "metadata": {},
   "outputs": [
    {
     "data": {
      "text/plain": [
       "array([[0.15834179, 0.06433265, 0.25949641, ..., 0.39730631, 0.10953905,\n",
       "        0.18488058]])"
      ]
     },
     "execution_count": 81,
     "metadata": {},
     "output_type": "execute_result"
    }
   ],
   "source": [
    "scores = cosine_similarity(query_game, tfidf_matrix)\n",
    "scores"
   ]
  },
  {
   "cell_type": "code",
   "execution_count": 82,
   "metadata": {},
   "outputs": [
    {
     "name": "stdout",
     "output_type": "stream",
     "text": [
      "['1980s' '1990' '2d' '360' '3d' '40k' '4x' '5d' '6dof' 'abstract' 'access'\n",
      " 'achievements' 'action' 'addictive' 'adventure' 'agriculture' 'aliens'\n",
      " 'alternate' 'ambient' 'america' 'american' 'and' 'animation' 'anime'\n",
      " 'anti' 'apocalyptic' 'app' 'arcade' 'archery' 'arena' 'artificial' 'arts'\n",
      " 'assassin' 'asymmetric' 'asynchronous' 'atmospheric' 'attack' 'atv'\n",
      " 'audio' 'auto' 'automation' 'automobile' 'available' 'awkward' 'base'\n",
      " 'baseball' 'based' 'basketball' 'battle' 'battler' 'beat' 'beautiful'\n",
      " 'bikes' 'birds' 'bit' 'blood' 'bmx' 'board' 'book' 'boomer' 'boss'\n",
      " 'bowling' 'boxing' 'builder' 'building' 'bullet' 'campaign' 'capitalism'\n",
      " 'captions' 'card' 'cards' 'cartoon' 'cartoony' 'casual' 'cats'\n",
      " 'character' 'cheat' 'chess' 'choices' 'choose' 'cinematic' 'city' 'class'\n",
      " 'classic' 'click' 'clicker' 'cloud' 'co' 'coding' 'cold' 'collectathon'\n",
      " 'collectibles' 'collector' 'colony' 'colorful' 'combat' 'comedy' 'comic'\n",
      " 'commentary' 'competitive' 'conspiracy' 'content' 'control' 'controller'\n",
      " 'controls' 'conversation' 'cooking' 'cozy' 'craft' 'crafting' 'crawler'\n",
      " 'creature' 'cricket' 'crime' 'cross' 'crowdfunded' 'crpg' 'cult'\n",
      " 'customization' 'cute' 'cyberpunk' 'cycling' 'dark' 'dating' 'death'\n",
      " 'deckbuilder' 'deckbuilding' 'deduction' 'defense' 'demons' 'design'\n",
      " 'destruction' 'detective' 'development' 'dice' 'difficult' 'dinosaurs'\n",
      " 'diplomacy' 'documentary' 'dog' 'down' 'dragons' 'drama' 'drawn'\n",
      " 'driving' 'dungeon' 'dungeons' 'dwarf' 'dynamic' 'dystopian' 'early'\n",
      " 'economy' 'editing' 'editor' 'education' 'electronic' 'elf' 'em'\n",
      " 'emotional' 'enabled' 'endings' 'epic' 'episodic' 'escape' 'esports'\n",
      " 'events' 'experience' 'experimental' 'exploration' 'extraction' 'faith'\n",
      " 'family' 'fantasy' 'farming' 'fast' 'feature' 'features' 'female' 'fi'\n",
      " 'fiction' 'fighter' 'fighting' 'film' 'first' 'fishing' 'flight' 'fmv'\n",
      " 'football' 'foreign' 'fps' 'free' 'friendly' 'funny' 'futuristic'\n",
      " 'gambling' 'game' 'gamemaker' 'games' 'gaming' 'generation' 'god' 'golf'\n",
      " 'gore' 'gothic' 'grand' 'graphics' 'great' 'grid' 'gun' 'hack' 'hacking'\n",
      " 'hand' 'hardware' 'hdr' 'heist' 'hell' 'hentai' 'hero' 'hex' 'hidden'\n",
      " 'historical' 'history' 'hl2' 'hockey' 'horror' 'horses' 'humor' 'hunting'\n",
      " 'idler' 'ii' 'illuminati' 'illustration' 'immersive' 'in' 'includes'\n",
      " 'indie' 'instrumental' 'intelligence' 'intentionally' 'interactive'\n",
      " 'inventory' 'investigation' 'isometric' 'jet' 'job' 'jrpg' 'jump'\n",
      " 'keeper' 'kickstarter' 'lan' 'leaderboards' 'lego' 'lemmings' 'level'\n",
      " 'lgbtq' 'life' 'like' 'limited' 'linear' 'local' 'logic' 'loot' 'looter'\n",
      " 'lore' 'lovecraftian' 'machine' 'magic' 'mahjong' 'management'\n",
      " 'manipulation' 'mars' 'martial' 'massively' 'match' 'matching' 'matter'\n",
      " 'mature' 'mechs' 'medical' 'medieval' 'memes' 'metroidvania' 'military'\n",
      " 'mini' 'minigames' 'minimalist' 'mining' 'mmo' 'mmorpg' 'moba' 'mod'\n",
      " 'moddable' 'modeling' 'modern' 'mods' 'motocross' 'motorbike' 'mouse'\n",
      " 'movement' 'movie' 'multiplayer' 'multiple' 'music' 'musou' 'mystery'\n",
      " 'mythology' 'narration' 'narrative' 'nature' 'naval' 'ninja' 'noir'\n",
      " 'nonlinear' 'nostalgia' 'notifications' 'novel' 'nsfw' 'nudity' 'object'\n",
      " 'offroad' 'old' 'on' 'online' 'only' 'op' 'open' 'otome' 'outbreak' 'own'\n",
      " 'paced' 'parkour' 'parody' 'partial' 'party' 'pause' 'perma' 'person'\n",
      " 'philosophical' 'phone' 'photo' 'physics' 'pinball' 'pirates' 'pixel'\n",
      " 'platform' 'platformer' 'play' 'player' 'point' 'political' 'politics'\n",
      " 'pool' 'post' 'precision' 'procedural' 'production' 'profile'\n",
      " 'programming' 'protagonist' 'psychedelic' 'psychological' 'publishing'\n",
      " 'purchases' 'puzzle' 'pve' 'pvp' 'quick' 'racing' 'rails' 'real'\n",
      " 'realistic' 'relaxing' 'remake' 'remote' 'replay' 'require' 'resource'\n",
      " 'retro' 'rhythm' 'rich' 'robots' 'rock' 'roguelike' 'roguelite'\n",
      " 'roguevania' 'romance' 'rome' 'room' 'royale' 'rpg' 'rpgmaker' 'rts'\n",
      " 'rugby' 'runner' 'rush' 'sailing' 'sandbox' 'satire' 'scare' 'school'\n",
      " 'sci' 'science' 'score' 'screen' 'scroller' 'sdk' 'sequel' 'sexual'\n",
      " 'shared' 'sharing' 'shoot' 'shooter' 'shop' 'short' 'side' 'silent' 'sim'\n",
      " 'simulation' 'simulator' 'single' 'singleplayer' 'skateboarding'\n",
      " 'skating' 'skiing' 'slash' 'sniper' 'snooker' 'snow' 'snowboarding'\n",
      " 'soccer' 'social' 'software' 'sokoban' 'solitaire' 'souls' 'soundtrack'\n",
      " 'source' 'space' 'spaceships' 'spectacle' 'spelling' 'split' 'sports'\n",
      " 'stats' 'stealth' 'steam' 'steampunk' 'steamvr' 'stick' 'story'\n",
      " 'strategy' 'stylized' 'submarine' 'superhero' 'supernatural' 'support'\n",
      " 'supported' 'surreal' 'survival' 'swordplay' 'tablet' 'tabletop'\n",
      " 'tactical' 'tactics' 'tanks' 'team' 'tennis' 'text' 'third' 'thriller'\n",
      " 'tile' 'time' 'timeline' 'to' 'together' 'top' 'touch' 'tower' 'tracked'\n",
      " 'trackir' 'trading' 'traditional' 'training' 'trains' 'transhumanism'\n",
      " 'transportation' 'travel' 'trivia' 'turn' 'tutorial' 'tv' 'twin' 'typing'\n",
      " 'underground' 'underwater' 'unforgiving' 'up' 'utilities' 'value' 'valve'\n",
      " 'vampire' 'vehicular' 'video' 'vikings' 'villain' 'violent' 'vision'\n",
      " 'visual' 'voice' 'volleyball' 'voxel' 'vr' 'walking' 'war' 'wargame'\n",
      " 'warhammer' 'web' 'well' 'werewolves' 'western' 'wholesome' 'with' 'word'\n",
      " 'workshop' 'world' 'wrestling' 'written' 'your' 'zombies']\n",
      "[[0.         0.         0.         0.         0.10363639 0.\n",
      "  0.         0.         0.         0.         0.         0.0879532\n",
      "  0.14478986 0.         0.         0.         0.         0.\n",
      "  0.         0.         0.         0.         0.         0.\n",
      "  0.         0.         0.         0.         0.         0.\n",
      "  0.         0.         0.         0.         0.         0.14870796\n",
      "  0.         0.         0.         0.         0.         0.\n",
      "  0.         0.         0.         0.         0.         0.\n",
      "  0.         0.         0.         0.         0.         0.\n",
      "  0.         0.         0.         0.         0.         0.\n",
      "  0.         0.         0.         0.         0.         0.\n",
      "  0.         0.         0.         0.         0.14517192 0.\n",
      "  0.         0.         0.         0.14910896 0.         0.\n",
      "  0.         0.         0.         0.         0.         0.\n",
      "  0.         0.         0.12133674 0.24793266 0.         0.\n",
      "  0.         0.         0.         0.         0.         0.\n",
      "  0.         0.         0.         0.         0.         0.\n",
      "  0.         0.         0.         0.         0.         0.\n",
      "  0.         0.         0.         0.         0.         0.\n",
      "  0.         0.         0.         0.         0.14780864 0.\n",
      "  0.         0.         0.17700391 0.         0.         0.\n",
      "  0.         0.         0.         0.         0.         0.\n",
      "  0.         0.         0.         0.19273806 0.         0.\n",
      "  0.         0.         0.         0.         0.         0.\n",
      "  0.         0.         0.         0.         0.         0.\n",
      "  0.         0.         0.         0.         0.         0.\n",
      "  0.         0.         0.         0.         0.         0.\n",
      "  0.         0.         0.         0.         0.         0.\n",
      "  0.         0.         0.         0.13387988 0.27996962 0.\n",
      "  0.         0.         0.         0.         0.         0.\n",
      "  0.         0.         0.         0.         0.         0.\n",
      "  0.         0.         0.         0.         0.         0.15439938\n",
      "  0.         0.         0.         0.         0.         0.\n",
      "  0.         0.         0.         0.         0.         0.\n",
      "  0.         0.         0.20562321 0.         0.         0.\n",
      "  0.         0.         0.         0.         0.         0.\n",
      "  0.         0.         0.         0.         0.         0.\n",
      "  0.         0.         0.         0.         0.         0.\n",
      "  0.         0.         0.         0.         0.         0.\n",
      "  0.         0.         0.         0.         0.         0.\n",
      "  0.         0.         0.         0.         0.         0.\n",
      "  0.         0.         0.         0.         0.         0.\n",
      "  0.         0.         0.         0.         0.27517021 0.\n",
      "  0.         0.         0.         0.         0.         0.\n",
      "  0.         0.         0.         0.         0.         0.\n",
      "  0.         0.         0.         0.         0.         0.\n",
      "  0.         0.         0.         0.         0.         0.\n",
      "  0.         0.         0.         0.         0.         0.\n",
      "  0.         0.         0.         0.         0.         0.\n",
      "  0.         0.         0.         0.         0.         0.\n",
      "  0.06122237 0.         0.         0.         0.         0.\n",
      "  0.         0.         0.         0.         0.         0.\n",
      "  0.         0.         0.         0.         0.         0.\n",
      "  0.         0.         0.         0.         0.17508861 0.\n",
      "  0.24793266 0.1511647  0.         0.         0.         0.\n",
      "  0.         0.         0.         0.         0.         0.\n",
      "  0.10336233 0.         0.         0.         0.         0.\n",
      "  0.         0.         0.         0.         0.         0.06394307\n",
      "  0.         0.         0.         0.         0.         0.\n",
      "  0.         0.         0.         0.         0.         0.\n",
      "  0.         0.         0.         0.         0.         0.13119575\n",
      "  0.         0.         0.         0.         0.         0.\n",
      "  0.         0.         0.         0.         0.         0.\n",
      "  0.         0.         0.         0.         0.         0.\n",
      "  0.         0.         0.         0.         0.         0.24053778\n",
      "  0.         0.         0.         0.         0.         0.\n",
      "  0.         0.         0.         0.         0.         0.\n",
      "  0.         0.         0.         0.         0.         0.\n",
      "  0.         0.06913533 0.         0.         0.         0.\n",
      "  0.         0.         0.         0.         0.         0.06468833\n",
      "  0.08880055 0.         0.         0.         0.         0.\n",
      "  0.         0.         0.         0.         0.         0.\n",
      "  0.         0.         0.27517021 0.201188   0.         0.\n",
      "  0.         0.         0.         0.         0.         0.\n",
      "  0.         0.24293088 0.         0.         0.         0.\n",
      "  0.         0.         0.         0.         0.         0.\n",
      "  0.         0.         0.         0.         0.         0.\n",
      "  0.         0.         0.         0.         0.         0.\n",
      "  0.13393357 0.         0.         0.         0.         0.\n",
      "  0.         0.         0.         0.         0.         0.\n",
      "  0.13666664 0.         0.         0.         0.         0.\n",
      "  0.         0.         0.         0.         0.         0.\n",
      "  0.         0.         0.         0.         0.         0.\n",
      "  0.         0.         0.         0.         0.         0.\n",
      "  0.         0.17911925 0.         0.         0.         0.\n",
      "  0.         0.         0.         0.         0.         0.\n",
      "  0.         0.         0.         0.         0.         0.\n",
      "  0.         0.         0.14540893 0.         0.         0.\n",
      "  0.        ]]\n"
     ]
    }
   ],
   "source": [
    "# 顯示結果\n",
    "print(tfidf.get_feature_names_out())\n",
    "print(query_game.toarray())"
   ]
  },
  {
   "cell_type": "code",
   "execution_count": 83,
   "metadata": {},
   "outputs": [],
   "source": [
    "scores = scores.flatten()"
   ]
  },
  {
   "cell_type": "code",
   "execution_count": 84,
   "metadata": {},
   "outputs": [
    {
     "data": {
      "text/plain": [
       "[<matplotlib.lines.Line2D at 0x14ec1f84d30>]"
      ]
     },
     "execution_count": 84,
     "metadata": {},
     "output_type": "execute_result"
    },
    {
     "data": {
      "image/png": "[encoded data removed]",
      "text/plain": [
       "<Figure size 640x480 with 1 Axes>"
      ]
     },
     "metadata": {},
     "output_type": "display_data"
    }
   ],
   "source": [
    "plt.plot(scores)"
   ]
  },
  {
   "cell_type": "code",
   "execution_count": 85,
   "metadata": {},
   "outputs": [
    {
     "data": {
      "text/plain": [
       "array([ 100, 8401, 9214, ..., 4687, 1681, 7496], dtype=int64)"
      ]
     },
     "execution_count": 85,
     "metadata": {},
     "output_type": "execute_result"
    }
   ],
   "source": [
    "(-scores).argsort()"
   ]
  },
  {
   "cell_type": "code",
   "execution_count": 86,
   "metadata": {},
   "outputs": [
    {
     "data": {
      "text/plain": [
       "[<matplotlib.lines.Line2D at 0x14ec1fc00d0>]"
      ]
     },
     "execution_count": 86,
     "metadata": {},
     "output_type": "execute_result"
    },
    {
     "data": {
      "image/png": "[encoded data removed]",
      "text/plain": [
       "<Figure size 640x480 with 1 Axes>"
      ]
     },
     "metadata": {},
     "output_type": "display_data"
    }
   ],
   "source": [
    "plt.plot(scores[(-scores).argsort()])"
   ]
  },
  {
   "cell_type": "code",
   "execution_count": 87,
   "metadata": {},
   "outputs": [
    {
     "data": {
      "text/plain": [
       "array([8401, 9214, 4801, 3518, 4739], dtype=int64)"
      ]
     },
     "execution_count": 87,
     "metadata": {},
     "output_type": "execute_result"
    }
   ],
   "source": [
    "recommended_idx = (-scores).argsort()[1:6]\n",
    "recommended_idx"
   ]
  },
  {
   "cell_type": "code",
   "execution_count": 88,
   "metadata": {},
   "outputs": [
    {
     "data": {
      "text/plain": [
       "8401                       Nioh: Complete Edition\n",
       "9214                  The Last Hero of Nostalgaia\n",
       "4801    STRANGER OF PARADISE FINAL FANTASY ORIGIN\n",
       "3518                                  Rune Teller\n",
       "4739                                Rogue Masters\n",
       "Name: name, dtype: object"
      ]
     },
     "execution_count": 88,
     "metadata": {},
     "output_type": "execute_result"
    }
   ],
   "source": [
    "df[\"name\"].iloc[recommended_idx]"
   ]
  },
  {
   "cell_type": "code",
   "execution_count": 108,
   "metadata": {},
   "outputs": [
    {
     "name": "stdout",
     "output_type": "stream",
     "text": [
      "5601\n"
     ]
    }
   ],
   "source": [
    "idx = game2idx[\"Diablo® IV\"]\n",
    "\n",
    "print(idx)"
   ]
  },
  {
   "cell_type": "code",
   "execution_count": 109,
   "metadata": {},
   "outputs": [],
   "source": [
    "from fuzzywuzzy import process"
   ]
  },
  {
   "cell_type": "code",
   "execution_count": 128,
   "metadata": {},
   "outputs": [
    {
     "data": {
      "text/plain": [
       "('Diablo® IV', 100, 5601)"
      ]
     },
     "execution_count": 128,
     "metadata": {},
     "output_type": "execute_result"
    }
   ],
   "source": [
    "closest_match = process.extractOne(\"diablo IV\", df[\"name\"])\n",
    "closest_match"
   ]
  },
  {
   "cell_type": "code",
   "execution_count": 184,
   "metadata": {},
   "outputs": [
    {
     "data": {
      "text/plain": [
       "'Counter-Strike: Source'"
      ]
     },
     "execution_count": 184,
     "metadata": {},
     "output_type": "execute_result"
    }
   ],
   "source": [
    "df[df[\"id\"] == 240][\"name\"].to_string(index=False)"
   ]
  },
  {
   "cell_type": "code",
   "execution_count": 195,
   "metadata": {},
   "outputs": [],
   "source": [
    "def recommend(name_or_index):\n",
    "\n",
    "    if isinstance(name_or_index, int):\n",
    "        matched_game_name = df[df[\"id\"] == name_or_index][\"name\"].to_string(index=False)\n",
    "\n",
    "    else:\n",
    "        # 模糊搜索 (字母大小寫皆適用)\n",
    "        closest_match = process.extractOne(name_or_index, df[\"name\"])\n",
    "\n",
    "        # 根據輸入的遊戲名稱，對照遊戲表找出對應的索引值\n",
    "        if closest_match[1] > 20:\n",
    "            matched_game_name = closest_match[0]\n",
    "\n",
    "        else:\n",
    "            return \"找不到輸入的遊戲名稱或ID\"\n",
    "\n",
    "    idx = game2idx[matched_game_name]\n",
    "\n",
    "    # 確認 idx 是否有值\n",
    "    if type(idx) == pd.Series:\n",
    "        idx = idx.iloc[0]\n",
    "\n",
    "    # 找出指定遊戲的matrix\n",
    "    query_game = tfidf_matrix[idx]\n",
    "\n",
    "    # 將該遊戲的matrix與其他遊戲的matrix做相似度比對\n",
    "    scores = cosine_similarity(query_game, tfidf_matrix)\n",
    "\n",
    "    # 將scores拉平\n",
    "    scores = scores.flatten()\n",
    "\n",
    "    # 得到前五名相似度最高的遊戲\n",
    "    recommended_idx = (-scores).argsort()[1:6]\n",
    "\n",
    "    # 取得推薦遊戲名稱列表和對應的索引\n",
    "    recommended_games = df[\"name\"].iloc[recommended_idx]\n",
    "    recommended_indexes = recommended_idx\n",
    "\n",
    "    # 將相似度的遊戲index丟到df裡面返回遊戲名稱\n",
    "    return matched_game_name, list(zip(recommended_indexes, recommended_games))"
   ]
  },
  {
   "cell_type": "code",
   "execution_count": 198,
   "metadata": {},
   "outputs": [],
   "source": [
    "def user():\n",
    "    if __name__ == \"__main__\":\n",
    "\n",
    "        user_input = input(\"請輸入遊戲名稱或steam id: \")\n",
    "\n",
    "        try:\n",
    "            user_input = int(user_input)\n",
    "\n",
    "        except ValueError:\n",
    "            user_input = user_input\n",
    "\n",
    "        name, data = recommend(user_input)\n",
    "\n",
    "        if data:\n",
    "            match_df = pd.DataFrame(data, columns=[\"game_index\", \"game_name\"])\n",
    "\n",
    "            print(f\"遊戲名稱:{name}\")\n",
    "            print(f\"相似遊戲:\\n{match_df}\")"
   ]
  },
  {
   "cell_type": "code",
   "execution_count": 204,
   "metadata": {},
   "outputs": [
    {
     "name": "stdout",
     "output_type": "stream",
     "text": [
      "遊戲名稱:Path of Exile\n",
      "相似遊戲:\n",
      "   game_index          game_name\n",
      "0        1106  Drakensang Online\n",
      "1         213          Superfuse\n",
      "2        4503     Torchlight III\n",
      "3        4701         Last Epoch\n",
      "4        6219      Ashen Empires\n"
     ]
    }
   ],
   "source": [
    "user()"
   ]
  }
 ],
 "metadata": {
  "kernelspec": {
   "display_name": "dl",
   "language": "python",
   "name": "python3"
  },
  "language_info": {
   "codemirror_mode": {
    "name": "ipython",
    "version": 3
   },
   "file_extension": ".py",
   "mimetype": "text/x-python",
   "name": "python",
   "nbconvert_exporter": "python",
   "pygments_lexer": "ipython3",
   "version": "undefined.undefined.undefined"
  }
 },
 "nbformat": 4,
 "nbformat_minor": 2
}
